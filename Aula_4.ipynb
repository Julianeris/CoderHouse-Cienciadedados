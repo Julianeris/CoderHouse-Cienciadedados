{
  "nbformat": 4,
  "nbformat_minor": 0,
  "metadata": {
    "colab": {
      "provenance": []
    },
    "kernelspec": {
      "name": "python3",
      "display_name": "Python 3"
    },
    "language_info": {
      "name": "python"
    }
  },
  "cells": [
    {
      "cell_type": "code",
      "source": [
        "vet = 1, 2, 3"
      ],
      "metadata": {
        "id": "tVQJLZjhog7k"
      },
      "execution_count": null,
      "outputs": []
    },
    {
      "cell_type": "code",
      "execution_count": null,
      "metadata": {
        "colab": {
          "base_uri": "https://localhost:8080/"
        },
        "id": "-HBowjYOoasX",
        "outputId": "f58b73ce-b9f2-4e7d-f010-f4f73edc2a48"
      },
      "outputs": [
        {
          "output_type": "stream",
          "name": "stdout",
          "text": [
            "1\n",
            "2\n",
            "3\n",
            "4\n",
            "5\n",
            "6\n",
            "7\n",
            "8\n",
            "9\n"
          ]
        }
      ],
      "source": [
        "for i in range(1,10):\n",
        "  print (i)"
      ]
    },
    {
      "cell_type": "code",
      "source": [
        "for i in [1, 2, 4]:\n",
        "  print(i)"
      ],
      "metadata": {
        "colab": {
          "base_uri": "https://localhost:8080/"
        },
        "id": "QYEEekbwo4XO",
        "outputId": "674421d6-e73f-4eb5-9eb6-7f9122ff91e7"
      },
      "execution_count": null,
      "outputs": [
        {
          "output_type": "stream",
          "name": "stdout",
          "text": [
            "1\n",
            "2\n",
            "4\n"
          ]
        }
      ]
    },
    {
      "cell_type": "code",
      "source": [
        "for i in range (1, 5, 2):\n",
        "  print(i)"
      ],
      "metadata": {
        "colab": {
          "base_uri": "https://localhost:8080/"
        },
        "id": "dpEgcd6F3x6z",
        "outputId": "8359bcd1-6383-4b8b-a7c2-643ecb90b0b0"
      },
      "execution_count": null,
      "outputs": [
        {
          "output_type": "stream",
          "name": "stdout",
          "text": [
            "1\n",
            "3\n"
          ]
        }
      ]
    },
    {
      "cell_type": "code",
      "source": [
        "for c in range (5, 0, -1):\n",
        "  print(c)"
      ],
      "metadata": {
        "colab": {
          "base_uri": "https://localhost:8080/"
        },
        "id": "YKubXOK7J8tX",
        "outputId": "fa3ab11c-0e34-41a1-f1e4-fc2faf2dd032"
      },
      "execution_count": null,
      "outputs": [
        {
          "output_type": "stream",
          "name": "stdout",
          "text": [
            "5\n",
            "4\n",
            "3\n",
            "2\n",
            "1\n"
          ]
        }
      ]
    },
    {
      "cell_type": "code",
      "source": [
        "for i in range(10):\n",
        "  print(i)"
      ],
      "metadata": {
        "colab": {
          "base_uri": "https://localhost:8080/"
        },
        "id": "vlDGUgyKpH7d",
        "outputId": "7df1a9ea-c8e0-4fcf-9835-61298b69b0ef"
      },
      "execution_count": null,
      "outputs": [
        {
          "output_type": "stream",
          "name": "stdout",
          "text": [
            "0\n",
            "1\n",
            "2\n",
            "3\n",
            "4\n",
            "5\n",
            "6\n",
            "7\n",
            "8\n",
            "9\n"
          ]
        }
      ]
    },
    {
      "cell_type": "code",
      "source": [
        "for i in range(1,5):\n",
        "  print(\"dentro\", i)\n",
        "  print(\"fora\", i)\n",
        "print(\"fim\")"
      ],
      "metadata": {
        "colab": {
          "base_uri": "https://localhost:8080/"
        },
        "id": "0ejwdV5Tr__U",
        "outputId": "36abde75-c2e7-4c85-8762-b7d93d47c89a"
      },
      "execution_count": null,
      "outputs": [
        {
          "output_type": "stream",
          "name": "stdout",
          "text": [
            "dentro 1\n",
            "fora 1\n",
            "dentro 2\n",
            "fora 2\n",
            "dentro 3\n",
            "fora 3\n",
            "dentro 4\n",
            "fora 4\n",
            "fim\n"
          ]
        }
      ]
    },
    {
      "cell_type": "code",
      "source": [
        "nomes = [\"Eren\",\"Mikasa\",\"Levi\",\"Reiner\",\"Annie\"]\n",
        "\n",
        "k = 0\n",
        "for i in range(1,3):\n",
        "  for j in nomes:\n",
        "    k = k + 1\n",
        "    print(k,i,j)\n"
      ],
      "metadata": {
        "colab": {
          "base_uri": "https://localhost:8080/"
        },
        "id": "W8dG_de-N_Kj",
        "outputId": "8b51db62-2d57-4efe-f403-05f7b68cebaf"
      },
      "execution_count": null,
      "outputs": [
        {
          "output_type": "stream",
          "name": "stdout",
          "text": [
            "1 1 Eren\n",
            "2 1 Mikasa\n",
            "3 1 Levi\n",
            "4 1 Reiner\n",
            "5 1 Annie\n",
            "6 2 Eren\n",
            "7 2 Mikasa\n",
            "8 2 Levi\n",
            "9 2 Reiner\n",
            "10 2 Annie\n"
          ]
        }
      ]
    },
    {
      "cell_type": "code",
      "source": [
        "for i in range(1,4):\n",
        "  for j in range(1,4):\n",
        "    print(i,\"=\",j,i == j)"
      ],
      "metadata": {
        "colab": {
          "base_uri": "https://localhost:8080/"
        },
        "id": "2kF-FjLOPpUy",
        "outputId": "76a530e6-7602-49ab-d4df-9d3b4c9b3c42"
      },
      "execution_count": null,
      "outputs": [
        {
          "output_type": "stream",
          "name": "stdout",
          "text": [
            "1 = 1 True\n",
            "1 = 2 False\n",
            "1 = 3 False\n",
            "2 = 1 False\n",
            "2 = 2 True\n",
            "2 = 3 False\n",
            "3 = 1 False\n",
            "3 = 2 False\n",
            "3 = 3 True\n"
          ]
        }
      ]
    },
    {
      "cell_type": "code",
      "source": [
        "fat = 1\n",
        "for i in range(1,6):\n",
        "  fat = fat*i\n",
        "print(fat)"
      ],
      "metadata": {
        "colab": {
          "base_uri": "https://localhost:8080/"
        },
        "id": "0RX5aInesbby",
        "outputId": "2a8be242-8902-4844-b3e9-91f0f06411e3"
      },
      "execution_count": null,
      "outputs": [
        {
          "output_type": "stream",
          "name": "stdout",
          "text": [
            "120\n"
          ]
        }
      ]
    },
    {
      "cell_type": "code",
      "source": [
        "resultado_soma1 = 0\n",
        "for i in range(1,101):\n",
        "  resultado_soma1 +=i\n",
        "print(resultado_soma1)"
      ],
      "metadata": {
        "colab": {
          "base_uri": "https://localhost:8080/"
        },
        "id": "9I6-ypR6wWCy",
        "outputId": "b63014bf-aa94-4c13-fe47-b5e4a223e331"
      },
      "execution_count": null,
      "outputs": [
        {
          "output_type": "stream",
          "name": "stdout",
          "text": [
            "5050\n"
          ]
        }
      ]
    },
    {
      "cell_type": "code",
      "source": [
        "a = 0\n",
        "i =1\n",
        "while i <= 100:\n",
        "  a +=i\n",
        "  i +=1\n",
        "a"
      ],
      "metadata": {
        "colab": {
          "base_uri": "https://localhost:8080/"
        },
        "id": "8JTFQD3T2XOe",
        "outputId": "aad6e89f-dc46-46e0-f33b-5a2970279727"
      },
      "execution_count": null,
      "outputs": [
        {
          "output_type": "execute_result",
          "data": {
            "text/plain": [
              "5050"
            ]
          },
          "metadata": {},
          "execution_count": 49
        }
      ]
    },
    {
      "cell_type": "code",
      "source": [
        "y = 1\n",
        "x = 2\n",
        "\n",
        "resultado = y+x\n",
        "print(resultado)"
      ],
      "metadata": {
        "colab": {
          "base_uri": "https://localhost:8080/"
        },
        "id": "P8DtJ4Zk2sES",
        "outputId": "fc8e4c0c-b4bf-469b-8894-70a3f5553173"
      },
      "execution_count": null,
      "outputs": [
        {
          "output_type": "stream",
          "name": "stdout",
          "text": [
            "3\n"
          ]
        }
      ]
    },
    {
      "cell_type": "code",
      "source": [
        "i=1\n",
        "while i < 10:\n",
        "  print(i)\n",
        "  i+=1"
      ],
      "metadata": {
        "colab": {
          "base_uri": "https://localhost:8080/"
        },
        "id": "9mhynrOrIfso",
        "outputId": "752fb51d-e65c-48c3-d300-9f14b0dfb896"
      },
      "execution_count": null,
      "outputs": [
        {
          "output_type": "stream",
          "name": "stdout",
          "text": [
            "1\n",
            "2\n",
            "3\n",
            "4\n",
            "5\n",
            "6\n",
            "7\n",
            "8\n",
            "9\n"
          ]
        }
      ]
    },
    {
      "cell_type": "code",
      "source": [
        "i=5\n",
        "while i <= 100:\n",
        "  print(i)\n",
        "  i+=10"
      ],
      "metadata": {
        "colab": {
          "base_uri": "https://localhost:8080/"
        },
        "id": "nSAtbBkKGura",
        "outputId": "5605f277-61cb-405d-a313-699eb17b6927"
      },
      "execution_count": null,
      "outputs": [
        {
          "output_type": "stream",
          "name": "stdout",
          "text": [
            "5\n",
            "15\n",
            "25\n",
            "35\n",
            "45\n",
            "55\n",
            "65\n",
            "75\n",
            "85\n",
            "95\n"
          ]
        }
      ]
    },
    {
      "cell_type": "code",
      "source": [
        "Laranja = 10\n",
        "\n",
        "if Laranja <= 15:\n",
        "  print(Laranja, \"é igual a 10\")\n",
        "else:\n",
        "  print(\"é um valor maior que 10\")"
      ],
      "metadata": {
        "colab": {
          "base_uri": "https://localhost:8080/"
        },
        "id": "nalPMN8FINva",
        "outputId": "bab42cab-7fc8-42de-9029-ac220425e75e"
      },
      "execution_count": null,
      "outputs": [
        {
          "output_type": "stream",
          "name": "stdout",
          "text": [
            "10 é igual a 10\n"
          ]
        }
      ]
    },
    {
      "cell_type": "markdown",
      "source": [
        "# Exercicios de fixação com For"
      ],
      "metadata": {
        "id": "kkmde4l-WAji"
      }
    },
    {
      "cell_type": "code",
      "source": [
        "#Exercício 1: Imprimir números pares: Escreva um programa que utilize um loop for para imprimir todos os números pares de 0 a 10.\n",
        "\n",
        "for i in range (0, 11, 2):\n",
        "  print(i)\n"
      ],
      "metadata": {
        "colab": {
          "base_uri": "https://localhost:8080/"
        },
        "id": "xjomXbwIJJNq",
        "outputId": "d62593de-3fe8-4503-d832-326d2d16d87f"
      },
      "execution_count": null,
      "outputs": [
        {
          "output_type": "stream",
          "name": "stdout",
          "text": [
            "0\n",
            "2\n",
            "4\n",
            "6\n",
            "8\n",
            "10\n"
          ]
        }
      ]
    },
    {
      "cell_type": "code",
      "source": [
        "#Exercício 2: Somar elementos de uma lista. Dada uma lista de números, escreva um programa que utiliza um loop for para somar todos os elementos da lista.\n",
        "\n",
        "soma = 0\n",
        "b = [2, 2, 2]\n",
        "\n",
        "\n",
        "for i in b:\n",
        "  soma+=i\n",
        "  print(soma)"
      ],
      "metadata": {
        "colab": {
          "base_uri": "https://localhost:8080/"
        },
        "id": "7_KocmgJWbke",
        "outputId": "53d6fe6c-18c1-43bc-ec31-ac5fc304e929"
      },
      "execution_count": null,
      "outputs": [
        {
          "output_type": "stream",
          "name": "stdout",
          "text": [
            "2\n",
            "4\n",
            "6\n"
          ]
        }
      ]
    },
    {
      "cell_type": "code",
      "source": [
        "#Exercício 3: Contar vogais. Escreva um programa que conte o número de vogais em uma string dada. Considere apenas letras minúsculas e maiúsculas como vogais.\n",
        "\n",
        "a = \"abelha\"\n",
        "vogal = \"aeiouAEIOU\"\n",
        "contador = 0\n",
        "\n",
        "for letra in a:\n",
        "  if letra in vogal:\n",
        "    contador +=1\n",
        "print(contador)\n"
      ],
      "metadata": {
        "colab": {
          "base_uri": "https://localhost:8080/"
        },
        "id": "SWGw1IpbY4JR",
        "outputId": "8b00ca08-8fab-4f6b-ccd3-7beb2a4fa10b"
      },
      "execution_count": null,
      "outputs": [
        {
          "output_type": "stream",
          "name": "stdout",
          "text": [
            "3\n"
          ]
        }
      ]
    },
    {
      "cell_type": "code",
      "source": [
        "b = \"pAralelePIpedo\"\n",
        "vogal = \"aeiouAEIOU\"\n",
        "cont = 0\n",
        "\n",
        "for letra in b:\n",
        "  if letra in vogal:\n",
        "    cont += 1\n",
        "print(cont)"
      ],
      "metadata": {
        "colab": {
          "base_uri": "https://localhost:8080/"
        },
        "id": "WNUtgVKUZ7dK",
        "outputId": "ee32179c-09a8-4295-dd0d-6205f3872eb1"
      },
      "execution_count": null,
      "outputs": [
        {
          "output_type": "stream",
          "name": "stdout",
          "text": [
            "7\n"
          ]
        }
      ]
    },
    {
      "cell_type": "code",
      "source": [
        "nome = \"Ana Beatriz\"\n",
        "Consoantes = \"bBnNtTrRzZ\"\n",
        "contagem = 0\n",
        "\n",
        "for letra in nome:\n",
        "  if letra in Consoantes:\n",
        "    contagem +=1\n",
        "print(contagem)"
      ],
      "metadata": {
        "colab": {
          "base_uri": "https://localhost:8080/"
        },
        "id": "agjGAajSaVz5",
        "outputId": "756dd7cb-e01c-492b-9b0d-145f27459441"
      },
      "execution_count": null,
      "outputs": [
        {
          "output_type": "stream",
          "name": "stdout",
          "text": [
            "5\n"
          ]
        }
      ]
    },
    {
      "cell_type": "code",
      "source": [
        "from os import readlink\n",
        "#Exercício 4: Tabuada de multiplicação. Escreva um programa que imprima a tabuada de multiplicação para um número específico.\n",
        "\n",
        "multiplo = 2\n",
        "for i in range (1,11):\n",
        "  resultado = multiplo * i\n",
        "  print(resultado)"
      ],
      "metadata": {
        "colab": {
          "base_uri": "https://localhost:8080/"
        },
        "id": "rsxq6kBkapxk",
        "outputId": "f3e70e1b-19c5-49ba-93b2-d95f3a60b753"
      },
      "execution_count": null,
      "outputs": [
        {
          "output_type": "stream",
          "name": "stdout",
          "text": [
            "2\n",
            "4\n",
            "6\n",
            "8\n",
            "10\n",
            "12\n",
            "14\n",
            "16\n",
            "18\n",
            "20\n"
          ]
        }
      ]
    },
    {
      "cell_type": "code",
      "source": [
        "o = 5\n",
        "for i in range (1,11):\n",
        "  tabuada = o * i\n",
        "  print(tabuada)"
      ],
      "metadata": {
        "colab": {
          "base_uri": "https://localhost:8080/"
        },
        "id": "re1fBYDMbQHM",
        "outputId": "ef364116-25af-4568-f26a-583ae885aff1"
      },
      "execution_count": null,
      "outputs": [
        {
          "output_type": "stream",
          "name": "stdout",
          "text": [
            "5\n",
            "10\n",
            "15\n",
            "20\n",
            "25\n",
            "30\n",
            "35\n",
            "40\n",
            "45\n",
            "50\n"
          ]
        }
      ]
    },
    {
      "cell_type": "code",
      "source": [
        "#Exercício 6: Contagem regressiva - Escreva um programa que faça uma contagem regressiva a partir de 10 até 1 e, em seguida, imprima \"Fogo!\".\n",
        "\n",
        "for i in range (10, 1, -1):\n",
        "  print(i)\n",
        "print(\"Fogo\")"
      ],
      "metadata": {
        "colab": {
          "base_uri": "https://localhost:8080/"
        },
        "id": "3fwoooplcQP1",
        "outputId": "2e3f564f-9394-40f1-d11a-6dac59e3b6fb"
      },
      "execution_count": null,
      "outputs": [
        {
          "output_type": "stream",
          "name": "stdout",
          "text": [
            "10\n",
            "9\n",
            "8\n",
            "7\n",
            "6\n",
            "5\n",
            "4\n",
            "3\n",
            "2\n",
            "Fogo\n"
          ]
        }
      ]
    },
    {
      "cell_type": "code",
      "source": [
        "#Exercício 1: Imprimir números de 1 a 5\n",
        "\n",
        "for i in range (0,10):\n",
        "  print(i)"
      ],
      "metadata": {
        "colab": {
          "base_uri": "https://localhost:8080/"
        },
        "id": "meN-E0AJ57gD",
        "outputId": "4d06724e-b407-4088-cb30-c1ab20b53c09"
      },
      "execution_count": null,
      "outputs": [
        {
          "output_type": "stream",
          "name": "stdout",
          "text": [
            "0\n",
            "1\n",
            "2\n",
            "3\n",
            "4\n",
            "5\n",
            "6\n",
            "7\n",
            "8\n",
            "9\n"
          ]
        }
      ]
    },
    {
      "cell_type": "code",
      "source": [
        "for i in range (1, 10,2):\n",
        "  print(i)"
      ],
      "metadata": {
        "colab": {
          "base_uri": "https://localhost:8080/"
        },
        "id": "H8GjVoPO6U3i",
        "outputId": "5394bd3f-a89c-48c1-dad6-9db8b5c1d0ca"
      },
      "execution_count": null,
      "outputs": [
        {
          "output_type": "stream",
          "name": "stdout",
          "text": [
            "1\n",
            "3\n",
            "5\n",
            "7\n",
            "9\n"
          ]
        }
      ]
    },
    {
      "cell_type": "code",
      "source": [
        "#Exercício 2: Imprimir os múltiplos de 3 até 30\n",
        "multide3 = 3\n",
        "\n",
        "for i in range (1, 11):\n",
        "  resultado = multide3*i\n",
        "  print(resultado)\n"
      ],
      "metadata": {
        "colab": {
          "base_uri": "https://localhost:8080/"
        },
        "id": "ZlLulidt58hI",
        "outputId": "5428e095-98da-4e8d-bedf-e110fa8169e2"
      },
      "execution_count": null,
      "outputs": [
        {
          "output_type": "stream",
          "name": "stdout",
          "text": [
            "3\n",
            "6\n",
            "9\n",
            "12\n",
            "15\n",
            "18\n",
            "21\n",
            "24\n",
            "27\n",
            "30\n"
          ]
        }
      ]
    },
    {
      "cell_type": "code",
      "source": [
        "for i in range(3, 31, 3):\n",
        "    print(i)\n"
      ],
      "metadata": {
        "colab": {
          "base_uri": "https://localhost:8080/"
        },
        "id": "iokBpqoQ7qVU",
        "outputId": "963f04e8-6a8c-41ea-b1ee-860497299d44"
      },
      "execution_count": null,
      "outputs": [
        {
          "output_type": "stream",
          "name": "stdout",
          "text": [
            "3\n",
            "6\n",
            "9\n",
            "12\n",
            "15\n",
            "18\n",
            "21\n",
            "24\n",
            "27\n",
            "30\n"
          ]
        }
      ]
    },
    {
      "cell_type": "code",
      "source": [
        "#Exercício 3: Calcular a soma dos primeiros 10 números inteiros positivos\n",
        "\n",
        "numeroint = 0\n",
        "for l in range(1, 11):\n",
        "  numeroint += l\n",
        "print(numeroint)\n"
      ],
      "metadata": {
        "colab": {
          "base_uri": "https://localhost:8080/"
        },
        "id": "OnI3qCVG5_aE",
        "outputId": "a6138799-a593-4c7c-fce6-afbc47df8f76"
      },
      "execution_count": null,
      "outputs": [
        {
          "output_type": "stream",
          "name": "stdout",
          "text": [
            "55\n"
          ]
        }
      ]
    },
    {
      "cell_type": "code",
      "source": [
        "#Exercício 4: Imprimir os caracteres de uma string\n",
        "\n",
        "palavra = \"Abelha\"\n",
        "\n",
        "for letra in palavra:\n",
        "  print(letra)\n"
      ],
      "metadata": {
        "colab": {
          "base_uri": "https://localhost:8080/"
        },
        "id": "teMIzCTs6BIF",
        "outputId": "615a286b-a3da-4135-f167-ecabf3fab046"
      },
      "execution_count": null,
      "outputs": [
        {
          "output_type": "stream",
          "name": "stdout",
          "text": [
            "A\n",
            "b\n",
            "e\n",
            "l\n",
            "h\n",
            "a\n"
          ]
        }
      ]
    },
    {
      "cell_type": "code",
      "source": [
        "#Exercício 5: Contar quantas vogais há em uma string\n",
        "palavra = \"Abelha\"\n",
        "vogais = \"aeiouAEIOU\"\n",
        "contador = 0\n",
        "\n",
        "for letra in palavra:\n",
        "  if letra in vogais:\n",
        "    contador +=1\n",
        "print(contador)\n"
      ],
      "metadata": {
        "colab": {
          "base_uri": "https://localhost:8080/"
        },
        "id": "CfZPtwct6C10",
        "outputId": "8267dd9c-ea4d-4bcc-a3f8-ab9c58f66c75"
      },
      "execution_count": null,
      "outputs": [
        {
          "output_type": "stream",
          "name": "stdout",
          "text": [
            "3\n"
          ]
        }
      ]
    },
    {
      "cell_type": "code",
      "source": [
        "palavra2 = \"Amortecedor\"\n",
        "vogais = \"aeiouAEIOU\"\n",
        "contador = 0\n",
        "\n",
        "for letra in palavra2:\n",
        "  if letra in vogais:\n",
        "    contador = contador + 1\n",
        "print(contador)"
      ],
      "metadata": {
        "colab": {
          "base_uri": "https://localhost:8080/"
        },
        "id": "Ou75pV1H-1fi",
        "outputId": "b6ab84df-30f4-4605-a9f7-bdb783895911"
      },
      "execution_count": null,
      "outputs": [
        {
          "output_type": "stream",
          "name": "stdout",
          "text": [
            "5\n"
          ]
        }
      ]
    },
    {
      "cell_type": "code",
      "source": [
        "#Exercício 6: Imprimir uma sequência de números pares de 0 a 20\n",
        "\n",
        "for i in range (0, 21, 2):\n",
        "  print(i)\n"
      ],
      "metadata": {
        "colab": {
          "base_uri": "https://localhost:8080/"
        },
        "id": "20wJDo2f6EqK",
        "outputId": "b45be167-f455-42b1-9b58-8bbb4b5ef14d"
      },
      "execution_count": null,
      "outputs": [
        {
          "output_type": "stream",
          "name": "stdout",
          "text": [
            "0\n",
            "2\n",
            "4\n",
            "6\n",
            "8\n",
            "10\n",
            "12\n",
            "14\n",
            "16\n",
            "18\n",
            "20\n"
          ]
        }
      ]
    },
    {
      "cell_type": "code",
      "source": [
        "#Exercício 7: Calcular a média de uma lista de números\n",
        "\n",
        "numeros = [10, 15, 20, 25, 30]\n",
        "soma = 0\n",
        "for num in numeros:\n",
        "    soma += num\n",
        "media = soma / len(numeros)\n",
        "print(\"A média é:\", media)\n"
      ],
      "metadata": {
        "colab": {
          "base_uri": "https://localhost:8080/"
        },
        "id": "5092gavf6HAS",
        "outputId": "53e3db8e-5951-4304-b678-8d9243e8a111"
      },
      "execution_count": null,
      "outputs": [
        {
          "output_type": "stream",
          "name": "stdout",
          "text": [
            "A média é: 20.0\n"
          ]
        }
      ]
    },
    {
      "cell_type": "code",
      "source": [
        "notas = [5, 9, 10, 8]\n",
        "soma = 0\n",
        "\n",
        "for i in notas:\n",
        "  soma =  soma + i\n",
        "\n",
        "media = soma / len(notas)\n",
        "print(soma)"
      ],
      "metadata": {
        "colab": {
          "base_uri": "https://localhost:8080/"
        },
        "id": "Fgmxqhlt_z8h",
        "outputId": "33494174-c79e-44ed-bfbb-15bf0a90676c"
      },
      "execution_count": null,
      "outputs": [
        {
          "output_type": "stream",
          "name": "stdout",
          "text": [
            "32\n"
          ]
        }
      ]
    },
    {
      "cell_type": "code",
      "source": [
        "#Exercício 8: Imprimir os números de 10 a 1 em ordem decrescente\n",
        "\n",
        "for i in range (10, 0, -1):\n",
        "  print(i)\n"
      ],
      "metadata": {
        "colab": {
          "base_uri": "https://localhost:8080/"
        },
        "id": "F59f90Xu6JGl",
        "outputId": "148c02b3-56f5-4984-9295-c1a4f693d7d3"
      },
      "execution_count": null,
      "outputs": [
        {
          "output_type": "stream",
          "name": "stdout",
          "text": [
            "10\n",
            "9\n",
            "8\n",
            "7\n",
            "6\n",
            "5\n",
            "4\n",
            "3\n",
            "2\n",
            "1\n"
          ]
        }
      ]
    },
    {
      "cell_type": "code",
      "source": [
        "#Exercício 9: Verificar se um número é primo\n",
        "\n",
        "numero = int(input(\"Digite um número: \"))\n",
        "primo = True\n",
        "for i in range(2, numero):\n",
        "    if numero % i == 0:\n",
        "        primo = False\n",
        "        break\n",
        "if primo:\n",
        "    print(numero, \"é primo.\")\n",
        "else:\n",
        "    print(numero, \"não é primo.\")"
      ],
      "metadata": {
        "colab": {
          "base_uri": "https://localhost:8080/"
        },
        "id": "MoBd2M9J6LyI",
        "outputId": "363bf2c7-83c0-42c1-ed52-309711985299"
      },
      "execution_count": null,
      "outputs": [
        {
          "output_type": "stream",
          "name": "stdout",
          "text": [
            "Digite um número: 10\n",
            "10 não é primo.\n"
          ]
        }
      ]
    },
    {
      "cell_type": "code",
      "source": [
        "#Exercício 10: Tabuada de multiplicação\n",
        "\n",
        "multiplo = int(input(\"Informe um número: \"))\n",
        "\n",
        "for i in range (1, 11):\n",
        "  resultado = multiplo * i\n",
        "  print(resultado)\n"
      ],
      "metadata": {
        "colab": {
          "base_uri": "https://localhost:8080/"
        },
        "id": "jT_ojE5I6MN9",
        "outputId": "29c722d9-81a9-4c47-8801-70f24aafbc8a"
      },
      "execution_count": null,
      "outputs": [
        {
          "output_type": "stream",
          "name": "stdout",
          "text": [
            "Informe um número: 5\n",
            "5\n",
            "10\n",
            "15\n",
            "20\n",
            "25\n",
            "30\n",
            "35\n",
            "40\n",
            "45\n",
            "50\n"
          ]
        }
      ]
    },
    {
      "cell_type": "markdown",
      "source": [
        "Exercicio de While"
      ],
      "metadata": {
        "id": "APSSy8azBkdv"
      }
    },
    {
      "cell_type": "code",
      "source": [
        "#Exercício 1: Contagem regressiva\n",
        "contagem = 10\n",
        "\n",
        "while contagem > 0:\n",
        " print(contagem)\n",
        " contagem = contagem - 1"
      ],
      "metadata": {
        "colab": {
          "base_uri": "https://localhost:8080/"
        },
        "id": "zc1zCmGh6Nqu",
        "outputId": "cf45a32d-3366-463e-90b2-50b77a912980"
      },
      "execution_count": null,
      "outputs": [
        {
          "output_type": "stream",
          "name": "stdout",
          "text": [
            "10\n",
            "9\n",
            "8\n",
            "7\n",
            "6\n",
            "5\n",
            "4\n",
            "3\n",
            "2\n",
            "1\n"
          ]
        }
      ]
    },
    {
      "cell_type": "code",
      "source": [
        "#Exercício 2: Soma de números positivos\n",
        "\n",
        "soma = 0\n",
        "numero = 1\n",
        "while numero != 0:\n",
        "    numero = int(input(\"Digite10 um número (digite 0 para sair): \"))\n",
        "    soma += numero\n",
        "print(\"A soma dos números é:\", soma)"
      ],
      "metadata": {
        "colab": {
          "base_uri": "https://localhost:8080/"
        },
        "id": "YjrCiowEBmyp",
        "outputId": "41ff290b-8bc1-4a7b-d9da-fa9d82cabe9b"
      },
      "execution_count": null,
      "outputs": [
        {
          "output_type": "stream",
          "name": "stdout",
          "text": [
            "Digite um número (digite 0 para sair): 10\n",
            "Digite um número (digite 0 para sair): 10\n",
            "Digite um número (digite 0 para sair): 0\n",
            "A soma dos números é: 20\n"
          ]
        }
      ]
    },
    {
      "cell_type": "code",
      "source": [
        "subtracao = 0\n",
        "numero = 1\n",
        "\n",
        "while numero != 0:\n",
        "  numero = int(input(\"Informe um número (digite o 0 para sair): \"))\n",
        "  subtracao = numero - subtracao\n",
        "print(subtracao)"
      ],
      "metadata": {
        "colab": {
          "base_uri": "https://localhost:8080/"
        },
        "id": "33uA0roJDiBn",
        "outputId": "c59d2de2-39b0-4ead-e5cb-6d99de61ed23"
      },
      "execution_count": null,
      "outputs": [
        {
          "output_type": "stream",
          "name": "stdout",
          "text": [
            "Informe um número (digite o 0 para sair): 10\n",
            "Informe um número (digite o 0 para sair): 5\n",
            "Informe um número (digite o 0 para sair): 0\n",
            "5\n"
          ]
        }
      ]
    },
    {
      "cell_type": "code",
      "source": [
        "#Exercício 3: Adivinhe o número\n",
        "\n",
        "numero_secreto = 7\n",
        "tentativas = 0\n",
        "palpite = -1\n",
        "while palpite != numero_secreto:\n",
        "    palpite = int(input(\"Tente adivinhar o número secreto: \"))\n",
        "    tentativas += 1\n",
        "print(f\"Parabéns, você acertou em {tentativas} tentativas!\")"
      ],
      "metadata": {
        "colab": {
          "base_uri": "https://localhost:8080/"
        },
        "id": "DYhbRujtBoDg",
        "outputId": "d61b0290-de41-4178-8d3f-591f0ed3c8e4"
      },
      "execution_count": null,
      "outputs": [
        {
          "output_type": "stream",
          "name": "stdout",
          "text": [
            "Tente adivinhar o número secreto: 9\n",
            "Tente adivinhar o número secreto: 0\n",
            "Tente adivinhar o número secreto: 8\n",
            "Tente adivinhar o número secreto: 7\n",
            "Parabéns, você acertou em 4 tentativas!\n"
          ]
        }
      ]
    },
    {
      "cell_type": "code",
      "source": [
        "palavra_secreta = \"abelha\"\n",
        "palpite = \" \"\n",
        "tentativas = 0\n",
        "\n",
        "while palpite != palavra_secreta:\n",
        "  palpite = str(input(\"Qual o seu palpite? \"))\n",
        "  tentativas =  tentativas + 1\n",
        "print(f\"Você acertou em {tentativas} tentativas\")"
      ],
      "metadata": {
        "colab": {
          "base_uri": "https://localhost:8080/"
        },
        "id": "GOPsz8pfEkei",
        "outputId": "0cb952bd-6bec-479f-87d0-00057dd7764e"
      },
      "execution_count": null,
      "outputs": [
        {
          "output_type": "stream",
          "name": "stdout",
          "text": [
            "Qual o seu palpite? pamonha\n",
            "Qual o seu palpite? limão\n",
            "Qual o seu palpite? abelha\n",
            "Você acertou em 3 tentativas\n"
          ]
        }
      ]
    },
    {
      "cell_type": "code",
      "source": [
        "#Exercício 4: Tabuada de multiplicação usando while\n",
        "\n",
        "numero = int(input(\"Digite um número para a tabuada: \"))\n",
        "i = 1\n",
        "while i <= 10:\n",
        "    resultado = numero * i\n",
        "    print(f\"{numero} x {i} = {resultado}\")\n",
        "    i += 1\n"
      ],
      "metadata": {
        "colab": {
          "base_uri": "https://localhost:8080/"
        },
        "id": "bSnhbtTBBpUX",
        "outputId": "ca59b80b-6eec-4c73-ce1a-a420ed792e87"
      },
      "execution_count": null,
      "outputs": [
        {
          "output_type": "stream",
          "name": "stdout",
          "text": [
            "Digite um número para a tabuada: 9\n",
            "9 x 1 = 9\n",
            "9 x 2 = 18\n",
            "9 x 3 = 27\n",
            "9 x 4 = 36\n",
            "9 x 5 = 45\n",
            "9 x 6 = 54\n",
            "9 x 7 = 63\n",
            "9 x 8 = 72\n",
            "9 x 9 = 81\n",
            "9 x 10 = 90\n"
          ]
        }
      ]
    },
    {
      "cell_type": "code",
      "source": [
        "#Exercício 5: Sequência de Fibonacci\n",
        "\n",
        "n = int(input(\"Digite o número de termos da sequência de Fibonacci: \"))\n",
        "a, b = 0, 1\n",
        "contador = 0\n",
        "while contador < n:\n",
        "    print(a)\n",
        "    a, b = b, a + b\n",
        "    contador += 1"
      ],
      "metadata": {
        "colab": {
          "base_uri": "https://localhost:8080/"
        },
        "id": "lmWh5ZXDBqqJ",
        "outputId": "5d70121d-ecf3-4c16-f890-697c3aab70ea"
      },
      "execution_count": null,
      "outputs": [
        {
          "output_type": "stream",
          "name": "stdout",
          "text": [
            "Digite o número de termos da sequência de Fibonacci: 10\n",
            "0\n",
            "1\n",
            "1\n",
            "2\n",
            "3\n",
            "5\n",
            "8\n",
            "13\n",
            "21\n",
            "34\n"
          ]
        }
      ]
    },
    {
      "cell_type": "code",
      "source": [
        "#Exercício 6: Média de números digitados\n",
        "\n",
        "contador = 0\n",
        "soma = 0\n",
        "numero = float(input(\"Digite um número (ou -1 para sair): \"))\n",
        "while numero != -1:\n",
        "    soma += numero\n",
        "    contador += 1\n",
        "    numero = float(input(\"Digite um número (ou -1 para sair): \"))\n",
        "media = soma / contador if contador > 0 else 0\n",
        "print(\"A média dos números é:\", media)\n"
      ],
      "metadata": {
        "colab": {
          "base_uri": "https://localhost:8080/"
        },
        "id": "D_G5RyIfBsK1",
        "outputId": "c83c7d7d-246d-4de7-a083-f9a538ca18af"
      },
      "execution_count": null,
      "outputs": [
        {
          "output_type": "stream",
          "name": "stdout",
          "text": [
            "Digite um número (ou -1 para sair): 10\n",
            "Digite um número (ou -1 para sair): 9\n",
            "Digite um número (ou -1 para sair): 10\n",
            "Digite um número (ou -1 para sair): -10\n",
            "Digite um número (ou -1 para sair): 10\n",
            "Digite um número (ou -1 para sair): -1\n",
            "A média dos números é: 5.8\n"
          ]
        }
      ]
    },
    {
      "cell_type": "code",
      "source": [],
      "metadata": {
        "id": "x9SvZFc-Bx9z"
      },
      "execution_count": null,
      "outputs": []
    }
  ]
}