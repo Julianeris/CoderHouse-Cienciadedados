{
  "nbformat": 4,
  "nbformat_minor": 0,
  "metadata": {
    "colab": {
      "provenance": []
    },
    "kernelspec": {
      "name": "python3",
      "display_name": "Python 3"
    },
    "language_info": {
      "name": "python"
    }
  },
  "cells": [
    {
      "cell_type": "markdown",
      "source": [
        "#Atividade em classe"
      ],
      "metadata": {
        "id": "f8vGwDRNoTzU"
      }
    },
    {
      "cell_type": "markdown",
      "source": [
        "IMC = Peso / Altura"
      ],
      "metadata": {
        "id": "sbjVFR6wl227"
      }
    },
    {
      "cell_type": "code",
      "execution_count": 11,
      "metadata": {
        "colab": {
          "base_uri": "https://localhost:8080/"
        },
        "id": "cw18i4eFlwCk",
        "outputId": "2e711389-2045-4c99-fbb0-8db6d28e2547"
      },
      "outputs": [
        {
          "output_type": "stream",
          "name": "stdout",
          "text": [
            "28.720083246618103\n"
          ]
        }
      ],
      "source": [
        "P = 69.00\n",
        "A = 1.55\n",
        "imc = P/(A**2)\n",
        "print(imc)"
      ]
    },
    {
      "cell_type": "code",
      "source": [],
      "metadata": {
        "id": "n8joP3YfmKX7"
      },
      "execution_count": null,
      "outputs": []
    }
  ]
}